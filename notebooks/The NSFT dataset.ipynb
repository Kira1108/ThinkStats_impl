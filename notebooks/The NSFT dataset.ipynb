{
 "cells": [
  {
   "cell_type": "code",
   "execution_count": 1,
   "metadata": {},
   "outputs": [],
   "source": [
    "import os\n",
    "os.chdir('../')"
   ]
  },
  {
   "cell_type": "code",
   "execution_count": 2,
   "metadata": {},
   "outputs": [],
   "source": [
    "from author.nsfg import ReadFemPreg,CleanFemPreg"
   ]
  },
  {
   "cell_type": "code",
   "execution_count": 3,
   "metadata": {},
   "outputs": [],
   "source": [
    "data = ReadFemPreg()"
   ]
  },
  {
   "cell_type": "code",
   "execution_count": 4,
   "metadata": {},
   "outputs": [
    {
     "data": {
      "text/plain": [
       "(13593, 244)"
      ]
     },
     "execution_count": 4,
     "metadata": {},
     "output_type": "execute_result"
    }
   ],
   "source": [
    "data.shape"
   ]
  },
  {
   "cell_type": "markdown",
   "metadata": {},
   "source": [
    "### Data Fields explained"
   ]
  },
  {
   "cell_type": "markdown",
   "metadata": {},
   "source": [
    "`caseid` is the **integer ID** of the respondent.    \n",
    "`prglngth` is the integer **duration** of the pregnancy in weeks.      \n",
    "`outcome` is an integer code for the outcome of the pregnancy. The code 1 indicates a **live birth**. <br>\n",
    "`pregordr` is a **pregnancy serial number**; for example, the code for a respondent’s first pregnancy is 1, for the second pregnancy is 2, and so on.      \n",
    "`birthord` is a **serial number for live births**; the code for a respondent’s first child is 1, and so on. For outcomes other than live birth, this field is blank.                                        \n",
    "`birthwgt_lb` and `birthwgt_oz` contain the pounds and ounces parts of the birth **weight** of the baby.    \n",
    "`agepreg` is the mother’s age at the end of the pregnancy.     \n",
    "`finalwgt` is the **statistical weight** associated with the respondent. It is a floating-point value that indicates the number of people in the U.S. population this respondent represents."
   ]
  },
  {
   "cell_type": "code",
   "execution_count": null,
   "metadata": {},
   "outputs": [],
   "source": []
  }
 ],
 "metadata": {
  "kernelspec": {
   "display_name": "Python 3",
   "language": "python",
   "name": "python3"
  },
  "language_info": {
   "codemirror_mode": {
    "name": "ipython",
    "version": 3
   },
   "file_extension": ".py",
   "mimetype": "text/x-python",
   "name": "python",
   "nbconvert_exporter": "python",
   "pygments_lexer": "ipython3",
   "version": "3.8.3"
  }
 },
 "nbformat": 4,
 "nbformat_minor": 4
}
